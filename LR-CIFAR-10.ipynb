{
 "cells": [
  {
   "cell_type": "code",
   "execution_count": null,
   "metadata": {
    "colab": {},
    "colab_type": "code",
    "id": "O_L_wweuiwKn"
   },
   "outputs": [],
   "source": [
    "#stage 01 (libraries)\n",
    "import torch\n",
    "import torchvision\n",
    "import numpy as np\n",
    "import matplotlib.pyplot as plt\n",
    "import torch.nn as nn\n",
    "import torch.nn.functional as F\n",
    "from torchvision.datasets import CIFAR10\n",
    "from torchvision.transforms import ToTensor\n",
    "from torchvision.utils import make_grid\n",
    "from torch.utils.data.dataloader import DataLoader\n",
    "from torch.utils.data import random_split\n",
    "%matplotlib inline"
   ]
  },
  {
   "cell_type": "code",
   "execution_count": 2,
   "metadata": {
    "colab": {},
    "colab_type": "code",
    "id": "YJf-749wsbSF"
   },
   "outputs": [],
   "source": [
    "#stage 1"
   ]
  },
  {
   "cell_type": "code",
   "execution_count": 3,
   "metadata": {
    "colab": {
     "base_uri": "https://localhost:8080/",
     "height": 83,
     "referenced_widgets": [
      "3e74b8c36bc14806b0a8adf3432c694e",
      "ea4c9aa2117a4f75aa328645a11729b7",
      "7393b0a80e4540bb9a34dd958cbac181",
      "1a150666e3bb416186398a98e59d10c1",
      "e5740b7aa7cd4cc088ec3b7fd0d514e3",
      "8332fa27ba8d4109b4578bc1979ccb13",
      "adc45e90f844484784bcfd97a5b3104e",
      "839f48c850f94d76a21949f931bc1fe7"
     ]
    },
    "colab_type": "code",
    "id": "BR-fTk0Yk82p",
    "outputId": "3d5cba28-e735-4bbb-fbff-af3dac596fcb"
   },
   "outputs": [
    {
     "name": "stdout",
     "output_type": "stream",
     "text": [
      "Downloading https://www.cs.toronto.edu/~kriz/cifar-10-python.tar.gz to data/cifar-10-python.tar.gz\n"
     ]
    },
    {
     "data": {
      "application/vnd.jupyter.widget-view+json": {
       "model_id": "3e74b8c36bc14806b0a8adf3432c694e",
       "version_major": 2,
       "version_minor": 0
      },
      "text/plain": [
       "HBox(children=(FloatProgress(value=1.0, bar_style='info', max=1.0), HTML(value='')))"
      ]
     },
     "metadata": {
      "tags": []
     },
     "output_type": "display_data"
    },
    {
     "name": "stdout",
     "output_type": "stream",
     "text": [
      "Extracting data/cifar-10-python.tar.gz to data/\n"
     ]
    }
   ],
   "source": [
    "# Exploring data set\n",
    "dataset = CIFAR10(root='data/', download=True, transform=ToTensor())\n",
    "test_dataset = CIFAR10(root='data/', train=False, transform=ToTensor())"
   ]
  },
  {
   "cell_type": "code",
   "execution_count": 4,
   "metadata": {
    "colab": {
     "base_uri": "https://localhost:8080/",
     "height": 34
    },
    "colab_type": "code",
    "id": "pWHCxkCmnPdK",
    "outputId": "3b8beccf-f121-46f9-f42e-6af3ca54b2fc"
   },
   "outputs": [
    {
     "data": {
      "text/plain": [
       "50000"
      ]
     },
     "execution_count": 4,
     "metadata": {
      "tags": []
     },
     "output_type": "execute_result"
    }
   ],
   "source": [
    "#training image dataset\n",
    "dataset_size = len(dataset)\n",
    "dataset_size"
   ]
  },
  {
   "cell_type": "code",
   "execution_count": 5,
   "metadata": {
    "colab": {
     "base_uri": "https://localhost:8080/",
     "height": 34
    },
    "colab_type": "code",
    "id": "TGBa_-YEpY9y",
    "outputId": "c85255dc-00e6-417f-97fa-51d1f3914edc"
   },
   "outputs": [
    {
     "data": {
      "text/plain": [
       "10000"
      ]
     },
     "execution_count": 5,
     "metadata": {
      "tags": []
     },
     "output_type": "execute_result"
    }
   ],
   "source": [
    "#test dataset size\n",
    "test_dataset_size = len(test_dataset)\n",
    "test_dataset_size"
   ]
  },
  {
   "cell_type": "code",
   "execution_count": 6,
   "metadata": {
    "colab": {
     "base_uri": "https://localhost:8080/",
     "height": 187
    },
    "colab_type": "code",
    "id": "BBP7hq4_pvrl",
    "outputId": "80fc7495-bec6-408a-b91b-8d09edfd95c8"
   },
   "outputs": [
    {
     "data": {
      "text/plain": [
       "['airplane',\n",
       " 'automobile',\n",
       " 'bird',\n",
       " 'cat',\n",
       " 'deer',\n",
       " 'dog',\n",
       " 'frog',\n",
       " 'horse',\n",
       " 'ship',\n",
       " 'truck']"
      ]
     },
     "execution_count": 6,
     "metadata": {
      "tags": []
     },
     "output_type": "execute_result"
    }
   ],
   "source": [
    "classes = dataset.classes\n",
    "classes"
   ]
  },
  {
   "cell_type": "code",
   "execution_count": 7,
   "metadata": {
    "colab": {
     "base_uri": "https://localhost:8080/",
     "height": 34
    },
    "colab_type": "code",
    "id": "crOx-_CDqWAe",
    "outputId": "52498c22-e467-4abc-dd13-55f719d21951"
   },
   "outputs": [
    {
     "data": {
      "text/plain": [
       "torch.Size([3, 32, 32])"
      ]
     },
     "execution_count": 7,
     "metadata": {
      "tags": []
     },
     "output_type": "execute_result"
    }
   ],
   "source": [
    "#shape of an image from \n",
    "img, label = dataset[0]\n",
    "img_shape = img.shape\n",
    "img_shape"
   ]
  },
  {
   "cell_type": "code",
   "execution_count": 8,
   "metadata": {
    "colab": {
     "base_uri": "https://localhost:8080/",
     "height": 300
    },
    "colab_type": "code",
    "id": "Vpdr93ouq50D",
    "outputId": "83f8f84a-a834-4db5-8656-2cd43136cad8"
   },
   "outputs": [
    {
     "name": "stdout",
     "output_type": "stream",
     "text": [
      "Label (numeric): 6\n",
      "Label (textual): frog\n"
     ]
    },
    {
     "data": {
      "image/png": "[encoded data removed]",
      "text/plain": [
       "<Figure size 432x288 with 1 Axes>"
      ]
     },
     "metadata": {
      "needs_background": "light",
      "tags": []
     },
     "output_type": "display_data"
    }
   ],
   "source": [
    "#RGB color image . let us look at a sample of color image\n",
    "img, label = dataset[0]\n",
    "plt.imshow(img.permute((1, 2, 0)))\n",
    "print('Label (numeric):', label)\n",
    "print('Label (textual):', classes[label])"
   ]
  },
  {
   "cell_type": "code",
   "execution_count": 9,
   "metadata": {
    "colab": {
     "base_uri": "https://localhost:8080/",
     "height": 187
    },
    "colab_type": "code",
    "id": "UK_E-sU_sLSr",
    "outputId": "cdcda62a-f5f3-4334-92c7-f51c59cf353e"
   },
   "outputs": [
    {
     "data": {
      "text/plain": [
       "{'airplane': 5000,\n",
       " 'automobile': 5000,\n",
       " 'bird': 5000,\n",
       " 'cat': 5000,\n",
       " 'deer': 5000,\n",
       " 'dog': 5000,\n",
       " 'frog': 5000,\n",
       " 'horse': 5000,\n",
       " 'ship': 5000,\n",
       " 'truck': 5000}"
      ]
     },
     "execution_count": 9,
     "metadata": {
      "tags": []
     },
     "output_type": "execute_result"
    }
   ],
   "source": [
    "#Number of images belonging to each class\n",
    "img_count_per_class = {label: 0 for label in classes}\n",
    "for img, label in dataset:\n",
    "    img_count_per_class[classes[label]] += 1\n",
    "    \n",
    "img_count_per_class"
   ]
  },
  {
   "cell_type": "code",
   "execution_count": null,
   "metadata": {
    "colab": {},
    "colab_type": "code",
    "id": "Tm8xrJd0sgdt"
   },
   "outputs": [],
   "source": [
    "#Stage 02"
   ]
  },
  {
   "cell_type": "code",
   "execution_count": 10,
   "metadata": {
    "colab": {},
    "colab_type": "code",
    "id": "mujcJAGhujo-"
   },
   "outputs": [],
   "source": [
    "#validation set size 10000 ie 20% \n",
    "torch.manual_seed(43)\n",
    "val_size = 10000\n",
    "train_size = len(dataset) - val_size"
   ]
  },
  {
   "cell_type": "code",
   "execution_count": null,
   "metadata": {
    "colab": {
     "base_uri": "https://localhost:8080/",
     "height": 34
    },
    "colab_type": "code",
    "id": "NG21rhKrusG7",
    "outputId": "05c1bc23-c1a3-4cde-82b1-f6a612f238a4"
   },
   "outputs": [],
   "source": [
    "#creating training & validation set using random_split\n",
    "train_ds, val_ds = random_split(dataset, [train_size, val_size])\n",
    "len(train_ds), len(val_ds)"
   ]
  },
  {
   "cell_type": "code",
   "execution_count": 12,
   "metadata": {
    "colab": {},
    "colab_type": "code",
    "id": "OF6dQZMDwax8"
   },
   "outputs": [],
   "source": [
    "#Creating data loader to load data in batches\n",
    "batch_size=128"
   ]
  },
  {
   "cell_type": "code",
   "execution_count": 13,
   "metadata": {
    "colab": {},
    "colab_type": "code",
    "id": "ulo1KGQowkd9"
   },
   "outputs": [],
   "source": [
    "train_loader = DataLoader(train_ds, batch_size, shuffle=True, num_workers=4, pin_memory=True)\n",
    "val_loader = DataLoader(val_ds, batch_size*2, num_workers=4, pin_memory=True)\n",
    "test_loader = DataLoader(test_dataset, batch_size*2, num_workers=4, pin_memory=True)"
   ]
  },
  {
   "cell_type": "code",
   "execution_count": null,
   "metadata": {
    "colab": {
     "base_uri": "https://localhost:8080/",
     "height": 483
    },
    "colab_type": "code",
    "id": "5E5G0ccswsXx",
    "outputId": "399ea712-ce68-4221-e15d-ac922ffbb633"
   },
   "outputs": [],
   "source": [
    "#visualize data using make_grid helper function from torch vision\n",
    "for images, _ in train_loader:\n",
    "    print('images.shape:', images.shape)\n",
    "    plt.figure(figsize=(8,8))\n",
    "    plt.axis('on')\n",
    "    plt.imshow(make_grid(images, nrow=16).permute((1, 2, 0)))\n",
    "    break"
   ]
  },
  {
   "cell_type": "code",
   "execution_count": null,
   "metadata": {
    "colab": {},
    "colab_type": "code",
    "id": "RDDLZq7XzbAS"
   },
   "outputs": [],
   "source": [
    "#Stage 03"
   ]
  },
  {
   "cell_type": "code",
   "execution_count": 15,
   "metadata": {
    "colab": {},
    "colab_type": "code",
    "id": "nJ-Y_gziziNS"
   },
   "outputs": [],
   "source": [
    "def accuracy(outputs, labels):\n",
    "    _, preds = torch.max(outputs, dim=1)\n",
    "    return torch.tensor(torch.sum(preds == labels).item() / len(preds))"
   ]
  },
  {
   "cell_type": "code",
   "execution_count": 16,
   "metadata": {
    "colab": {},
    "colab_type": "code",
    "id": "xeGQUZCyzpx-"
   },
   "outputs": [],
   "source": [
    "class ImageClassificationBase(nn.Module):\n",
    "    def training_step(self, batch):\n",
    "        images, labels = batch \n",
    "        out = self(images)                  # Generate predictions\n",
    "        loss = F.cross_entropy(out, labels) # Calculate loss\n",
    "        return loss\n",
    "    \n",
    "    def validation_step(self, batch):\n",
    "        images, labels = batch \n",
    "        out = self(images)                    # Generate predictions\n",
    "        loss = F.cross_entropy(out, labels)   # Calculate loss\n",
    "        acc = accuracy(out, labels)           # Calculate accuracy\n",
    "        return {'val_loss': loss.detach(), 'val_acc': acc}\n",
    "        \n",
    "    def validation_epoch_end(self, outputs):\n",
    "        batch_losses = [x['val_loss'] for x in outputs]\n",
    "        epoch_loss = torch.stack(batch_losses).mean()   # Combine losses\n",
    "        batch_accs = [x['val_acc'] for x in outputs]\n",
    "        epoch_acc = torch.stack(batch_accs).mean()      # Combine accuracies\n",
    "        return {'val_loss': epoch_loss.item(), 'val_acc': epoch_acc.item()}\n",
    "    \n",
    "    def epoch_end(self, epoch, result):\n",
    "        print(\"Epoch [{}], val_loss: {:.3f}, val_acc: {:.3f}\".format(epoch, result['val_loss'], result['val_acc']))"
   ]
  },
  {
   "cell_type": "code",
   "execution_count": 17,
   "metadata": {
    "colab": {},
    "colab_type": "code",
    "id": "EX6SUJu_zvlU"
   },
   "outputs": [],
   "source": [
    "def evaluate(model, val_loader):\n",
    "    outputs = [model.validation_step(batch) for batch in val_loader]\n",
    "    return model.validation_epoch_end(outputs)\n",
    "\n",
    "def fit(epochs, lr, model, train_loader, val_loader, opt_func=torch.optim.SGD):\n",
    "    history = []\n",
    "    optimizer = opt_func(model.parameters(), lr)\n",
    "    for epoch in range(epochs):\n",
    "        # Training Phase \n",
    "        for batch in train_loader:\n",
    "            loss = model.training_step(batch)\n",
    "            loss.backward()\n",
    "            optimizer.step()\n",
    "            optimizer.zero_grad()\n",
    "        # Validation phase\n",
    "        result = evaluate(model, val_loader)\n",
    "        model.epoch_end(epoch, result)\n",
    "        history.append(result)\n",
    "    return history"
   ]
  },
  {
   "cell_type": "code",
   "execution_count": 18,
   "metadata": {
    "colab": {
     "base_uri": "https://localhost:8080/",
     "height": 34
    },
    "colab_type": "code",
    "id": "81eskCuJz27U",
    "outputId": "1898e365-2799-4a13-916e-38f590e7efa3"
   },
   "outputs": [
    {
     "data": {
      "text/plain": [
       "True"
      ]
     },
     "execution_count": 18,
     "metadata": {
      "tags": []
     },
     "output_type": "execute_result"
    }
   ],
   "source": [
    "torch.cuda.is_available()"
   ]
  },
  {
   "cell_type": "code",
   "execution_count": 19,
   "metadata": {
    "colab": {},
    "colab_type": "code",
    "id": "kZ3sNaKpz6V_"
   },
   "outputs": [],
   "source": [
    "def get_default_device():\n",
    "    \"\"\"Pick GPU if available, else CPU\"\"\"\n",
    "    if torch.cuda.is_available():\n",
    "        return torch.device('cuda')\n",
    "    else:\n",
    "        return torch.device('cpu')"
   ]
  },
  {
   "cell_type": "code",
   "execution_count": 20,
   "metadata": {
    "colab": {
     "base_uri": "https://localhost:8080/",
     "height": 34
    },
    "colab_type": "code",
    "id": "jGcBKZiu0APu",
    "outputId": "798c19a6-86a3-451b-f05a-ed246d051f2e"
   },
   "outputs": [
    {
     "data": {
      "text/plain": [
       "device(type='cuda')"
      ]
     },
     "execution_count": 20,
     "metadata": {
      "tags": []
     },
     "output_type": "execute_result"
    }
   ],
   "source": [
    "device = get_default_device()\n",
    "device"
   ]
  },
  {
   "cell_type": "code",
   "execution_count": 21,
   "metadata": {
    "colab": {},
    "colab_type": "code",
    "id": "IO484p2e0EXW"
   },
   "outputs": [],
   "source": [
    "def to_device(data, device):\n",
    "    \"\"\"Move tensor(s) to chosen device\"\"\"\n",
    "    if isinstance(data, (list,tuple)):\n",
    "        return [to_device(x, device) for x in data]\n",
    "    return data.to(device, non_blocking=True)\n",
    "\n",
    "class DeviceDataLoader():\n",
    "    \"\"\"Wrap a dataloader to move data to a device\"\"\"\n",
    "    def __init__(self, dl, device):\n",
    "        self.dl = dl\n",
    "        self.device = device\n",
    "        \n",
    "    def __iter__(self):\n",
    "        \"\"\"Yield a batch of data after moving it to device\"\"\"\n",
    "        for b in self.dl: \n",
    "            yield to_device(b, self.device)\n",
    "\n",
    "    def __len__(self):\n",
    "        \"\"\"Number of batches\"\"\"\n",
    "        return len(self.dl)"
   ]
  },
  {
   "cell_type": "code",
   "execution_count": 22,
   "metadata": {
    "colab": {},
    "colab_type": "code",
    "id": "czR1zEUI0Hoq"
   },
   "outputs": [],
   "source": [
    "def plot_losses(history):\n",
    "    losses = [x['val_loss'] for x in history]\n",
    "    plt.plot(losses, '-x')\n",
    "    plt.xlabel('epoch')\n",
    "    plt.ylabel('loss')\n",
    "    plt.title('Epochs VS Loss');"
   ]
  },
  {
   "cell_type": "code",
   "execution_count": 23,
   "metadata": {
    "colab": {},
    "colab_type": "code",
    "id": "lVH2qvJs0Ly0"
   },
   "outputs": [],
   "source": [
    "def plot_accuracies(history):\n",
    "    accuracies = [x['val_acc'] for x in history]\n",
    "    plt.plot(accuracies, '-x')\n",
    "    plt.xlabel('epoch')\n",
    "    plt.ylabel('accuracy')\n",
    "    plt.title('Epochs VS Accuracy');"
   ]
  },
  {
   "cell_type": "code",
   "execution_count": 24,
   "metadata": {
    "colab": {},
    "colab_type": "code",
    "id": "tjNiiEn20RMd"
   },
   "outputs": [],
   "source": [
    "train_loader = DeviceDataLoader(train_loader, device)\n",
    "val_loader = DeviceDataLoader(val_loader, device)\n",
    "test_loader = DeviceDataLoader(test_loader, device)\n",
    "\n"
   ]
  },
  {
   "cell_type": "code",
   "execution_count": null,
   "metadata": {
    "colab": {},
    "colab_type": "code",
    "id": "OVDKvKM-0VBj"
   },
   "outputs": [],
   "source": [
    "#Stage 04"
   ]
  },
  {
   "cell_type": "code",
   "execution_count": 26,
   "metadata": {
    "colab": {},
    "colab_type": "code",
    "id": "k7JEpDa60kTh"
   },
   "outputs": [],
   "source": [
    "input_size = 3*32*32\n",
    "output_size = 10"
   ]
  },
  {
   "cell_type": "code",
   "execution_count": 27,
   "metadata": {
    "colab": {},
    "colab_type": "code",
    "id": "qDVaP0sZZ4UH"
   },
   "outputs": [],
   "source": [
    "class CIFAR10Model(ImageClassificationBase):\n",
    "    def __init__(self):\n",
    "        super().__init__()\n",
    "        self.linear1 = nn.Linear(input_size, 1650)\n",
    "        # hidden layers\n",
    "        self.linear2 = nn.Linear(1650, 512)\n",
    "        self.linear3 = nn.Linear(512, 138)\n",
    "        # output layer\n",
    "        self.linear4 = nn.Linear(138, output_size)\n",
    "        \n",
    "    def forward(self, xb):\n",
    "        # Flatten images into vectors\n",
    "        out = xb.view(xb.size(0), -1)\n",
    "        # Apply layers & activation functions\n",
    "        out = self.linear1(out)\n",
    "        # Apply activation function\n",
    "        out = F.relu(out)\n",
    "        # Get intermediate outputs using hidden layer 2\n",
    "        out = self.linear2(out)\n",
    "        # Apply activation function\n",
    "        out = F.relu(out)\n",
    "        # Get predictions using output layer\n",
    "        out = self.linear3(out)\n",
    "        # Apply activation function\n",
    "        out = F.relu(out)\n",
    "        # Get predictions using output layer\n",
    "        out = self.linear4(out)\n",
    "        # Apply activation function\n",
    "        out = F.relu(out)\n",
    "        return out"
   ]
  },
  {
   "cell_type": "code",
   "execution_count": 28,
   "metadata": {
    "colab": {},
    "colab_type": "code",
    "id": "lZ5jtuWAmClB"
   },
   "outputs": [],
   "source": [
    "model = to_device(CIFAR10Model(), device)"
   ]
  },
  {
   "cell_type": "code",
   "execution_count": 29,
   "metadata": {
    "colab": {
     "base_uri": "https://localhost:8080/",
     "height": 34
    },
    "colab_type": "code",
    "id": "pyZL-NUhmR4W",
    "outputId": "bd2e8bdd-aa68-41b9-895d-57cc33ac49f2"
   },
   "outputs": [
    {
     "data": {
      "text/plain": [
       "[{'val_acc': 0.10807675123214722, 'val_loss': 2.303123712539673}]"
      ]
     },
     "execution_count": 29,
     "metadata": {
      "tags": []
     },
     "output_type": "execute_result"
    }
   ],
   "source": [
    "history = [evaluate(model, val_loader)]\n",
    "history"
   ]
  },
  {
   "cell_type": "code",
   "execution_count": 30,
   "metadata": {
    "colab": {
     "base_uri": "https://localhost:8080/",
     "height": 187
    },
    "colab_type": "code",
    "id": "DFt6KademVcK",
    "outputId": "d093728d-5d5d-481c-830d-bdbd241a40a4"
   },
   "outputs": [
    {
     "name": "stdout",
     "output_type": "stream",
     "text": [
      "Epoch [0], val_loss: 2.1317, val_acc: 0.2327\n",
      "Epoch [1], val_loss: 1.8361, val_acc: 0.3397\n",
      "Epoch [2], val_loss: 1.7678, val_acc: 0.3780\n",
      "Epoch [3], val_loss: 1.7620, val_acc: 0.3749\n",
      "Epoch [4], val_loss: 1.7019, val_acc: 0.3927\n",
      "Epoch [5], val_loss: 1.6408, val_acc: 0.4220\n",
      "Epoch [6], val_loss: 1.5945, val_acc: 0.4385\n",
      "Epoch [7], val_loss: 1.5828, val_acc: 0.4318\n",
      "Epoch [8], val_loss: 1.5858, val_acc: 0.4392\n",
      "Epoch [9], val_loss: 1.5552, val_acc: 0.4412\n"
     ]
    }
   ],
   "source": [
    "history += fit(10, 0.05, model, train_loader, val_loader)"
   ]
  },
  {
   "cell_type": "code",
   "execution_count": 31,
   "metadata": {
    "colab": {
     "base_uri": "https://localhost:8080/",
     "height": 153
    },
    "colab_type": "code",
    "id": "Tb4tUIzjm4aG",
    "outputId": "a6efc41e-38b3-40d2-eea9-0d77c47c76e9"
   },
   "outputs": [
    {
     "name": "stdout",
     "output_type": "stream",
     "text": [
      "Epoch [0], val_loss: 1.4387, val_acc: 0.4912\n",
      "Epoch [1], val_loss: 1.4322, val_acc: 0.4891\n",
      "Epoch [2], val_loss: 1.4285, val_acc: 0.4916\n",
      "Epoch [3], val_loss: 1.4249, val_acc: 0.4954\n",
      "Epoch [4], val_loss: 1.4227, val_acc: 0.4978\n",
      "Epoch [5], val_loss: 1.4141, val_acc: 0.5000\n",
      "Epoch [6], val_loss: 1.4160, val_acc: 0.5033\n",
      "Epoch [7], val_loss: 1.4102, val_acc: 0.4991\n"
     ]
    }
   ],
   "source": [
    "history += fit(8, 0.005, model, train_loader, val_loader)"
   ]
  },
  {
   "cell_type": "code",
   "execution_count": 32,
   "metadata": {
    "colab": {
     "base_uri": "https://localhost:8080/",
     "height": 136
    },
    "colab_type": "code",
    "id": "W4PrA8iRnHNA",
    "outputId": "978a169e-09e0-4ef1-ecdf-4078c4f244c3"
   },
   "outputs": [
    {
     "name": "stdout",
     "output_type": "stream",
     "text": [
      "Epoch [0], val_loss: 1.4154, val_acc: 0.5058\n",
      "Epoch [1], val_loss: 1.4030, val_acc: 0.5021\n",
      "Epoch [2], val_loss: 1.4012, val_acc: 0.5055\n",
      "Epoch [3], val_loss: 1.4279, val_acc: 0.5003\n",
      "Epoch [4], val_loss: 1.4089, val_acc: 0.4990\n",
      "Epoch [5], val_loss: 1.4157, val_acc: 0.4953\n",
      "Epoch [6], val_loss: 1.3844, val_acc: 0.5124\n"
     ]
    }
   ],
   "source": [
    "history += fit(7, 0.01, model, train_loader, val_loader)"
   ]
  },
  {
   "cell_type": "code",
   "execution_count": 33,
   "metadata": {
    "colab": {
     "base_uri": "https://localhost:8080/",
     "height": 85
    },
    "colab_type": "code",
    "id": "BjOASvWpnhyI",
    "outputId": "76a2f392-956a-49eb-bcbb-1928e5610ebe"
   },
   "outputs": [
    {
     "name": "stdout",
     "output_type": "stream",
     "text": [
      "Epoch [0], val_loss: 1.3614, val_acc: 0.5233\n",
      "Epoch [1], val_loss: 1.3607, val_acc: 0.5219\n",
      "Epoch [2], val_loss: 1.3599, val_acc: 0.5212\n",
      "Epoch [3], val_loss: 1.3596, val_acc: 0.5244\n"
     ]
    }
   ],
   "source": [
    "history += fit(4, 0.001, model, train_loader, val_loader)"
   ]
  },
  {
   "cell_type": "code",
   "execution_count": 34,
   "metadata": {
    "colab": {
     "base_uri": "https://localhost:8080/",
     "height": 102
    },
    "colab_type": "code",
    "id": "1sKhr5WTnsOT",
    "outputId": "c7130aad-bd25-41e3-aaf2-d8b93a0176b5"
   },
   "outputs": [
    {
     "name": "stdout",
     "output_type": "stream",
     "text": [
      "Epoch [0], val_loss: 1.7733, val_acc: 0.3834\n",
      "Epoch [1], val_loss: 1.5780, val_acc: 0.4326\n",
      "Epoch [2], val_loss: 1.6129, val_acc: 0.4199\n",
      "Epoch [3], val_loss: 1.5422, val_acc: 0.4522\n",
      "Epoch [4], val_loss: 1.6422, val_acc: 0.4329\n"
     ]
    }
   ],
   "source": [
    "history += fit(5, 0.1, model, train_loader, val_loader)"
   ]
  },
  {
   "cell_type": "code",
   "execution_count": 35,
   "metadata": {
    "colab": {
     "base_uri": "https://localhost:8080/",
     "height": 187
    },
    "colab_type": "code",
    "id": "ZAmzWrLSn2gv",
    "outputId": "7192903f-df68-41c6-f8d2-16fe560f075f"
   },
   "outputs": [
    {
     "name": "stdout",
     "output_type": "stream",
     "text": [
      "Epoch [0], val_loss: 1.4750, val_acc: 0.4815\n",
      "Epoch [1], val_loss: 1.4353, val_acc: 0.4935\n",
      "Epoch [2], val_loss: 1.4192, val_acc: 0.4989\n",
      "Epoch [3], val_loss: 1.4105, val_acc: 0.5018\n",
      "Epoch [4], val_loss: 1.4049, val_acc: 0.5016\n",
      "Epoch [5], val_loss: 1.4008, val_acc: 0.5049\n",
      "Epoch [6], val_loss: 1.3978, val_acc: 0.5055\n",
      "Epoch [7], val_loss: 1.3953, val_acc: 0.5073\n",
      "Epoch [8], val_loss: 1.3933, val_acc: 0.5086\n",
      "Epoch [9], val_loss: 1.3916, val_acc: 0.5094\n"
     ]
    }
   ],
   "source": [
    "history += fit(10, 0.0001, model, train_loader, val_loader)"
   ]
  },
  {
   "cell_type": "code",
   "execution_count": 36,
   "metadata": {
    "colab": {
     "base_uri": "https://localhost:8080/",
     "height": 442
    },
    "colab_type": "code",
    "id": "4Gk_ZAPjoN7m",
    "outputId": "80baf4f3-a263-4533-d226-2461650e9dea"
   },
   "outputs": [
    {
     "name": "stdout",
     "output_type": "stream",
     "text": [
      "Epoch [0], val_loss: 1.3825, val_acc: 0.5182\n",
      "Epoch [1], val_loss: 1.3774, val_acc: 0.5174\n",
      "Epoch [2], val_loss: 1.3739, val_acc: 0.5205\n",
      "Epoch [3], val_loss: 1.3711, val_acc: 0.5211\n",
      "Epoch [4], val_loss: 1.3686, val_acc: 0.5207\n",
      "Epoch [5], val_loss: 1.3667, val_acc: 0.5221\n",
      "Epoch [6], val_loss: 1.3656, val_acc: 0.5213\n",
      "Epoch [7], val_loss: 1.3639, val_acc: 0.5219\n",
      "Epoch [8], val_loss: 1.3631, val_acc: 0.5232\n",
      "Epoch [9], val_loss: 1.3615, val_acc: 0.5227\n",
      "Epoch [10], val_loss: 1.3608, val_acc: 0.5217\n",
      "Epoch [11], val_loss: 1.3595, val_acc: 0.5218\n",
      "Epoch [12], val_loss: 1.3587, val_acc: 0.5238\n",
      "Epoch [13], val_loss: 1.3583, val_acc: 0.5236\n",
      "Epoch [14], val_loss: 1.3569, val_acc: 0.5262\n",
      "Epoch [15], val_loss: 1.3558, val_acc: 0.5262\n",
      "Epoch [16], val_loss: 1.3562, val_acc: 0.5235\n",
      "Epoch [17], val_loss: 1.3552, val_acc: 0.5276\n",
      "Epoch [18], val_loss: 1.3540, val_acc: 0.5256\n",
      "Epoch [19], val_loss: 1.3532, val_acc: 0.5256\n",
      "Epoch [20], val_loss: 1.3535, val_acc: 0.5245\n",
      "Epoch [21], val_loss: 1.3517, val_acc: 0.5266\n",
      "Epoch [22], val_loss: 1.3511, val_acc: 0.5276\n",
      "Epoch [23], val_loss: 1.3504, val_acc: 0.5270\n",
      "Epoch [24], val_loss: 1.3496, val_acc: 0.5274\n"
     ]
    }
   ],
   "source": [
    "#since 0.001 gives best accuracy,\n",
    "history += fit(25, 0.001, model, train_loader, val_loader)"
   ]
  },
  {
   "cell_type": "code",
   "execution_count": null,
   "metadata": {
    "colab": {
     "base_uri": "https://localhost:8080/",
     "height": 295
    },
    "colab_type": "code",
    "id": "M9YhEoZOo9zG",
    "outputId": "ac92a1f3-593a-4776-a90b-d71a767db318"
   },
   "outputs": [],
   "source": [
    "plot_losses(history)"
   ]
  },
  {
   "cell_type": "code",
   "execution_count": null,
   "metadata": {
    "colab": {
     "base_uri": "https://localhost:8080/",
     "height": 295
    },
    "colab_type": "code",
    "id": "-Ynz6QTJpGB9",
    "outputId": "a7c402da-b8b5-492a-f805-ccb6f6f237de"
   },
   "outputs": [],
   "source": [
    "plot_accuracies(history)"
   ]
  },
  {
   "cell_type": "code",
   "execution_count": null,
   "metadata": {},
   "outputs": [],
   "source": [
    "#Saturation point\n",
    "history += fit(11, 0.001, model, train_loader, val_loader)"
   ]
  },
  {
   "cell_type": "code",
   "execution_count": null,
   "metadata": {},
   "outputs": [],
   "source": [
    "plot_losses(history)"
   ]
  },
  {
   "cell_type": "code",
   "execution_count": null,
   "metadata": {},
   "outputs": [],
   "source": [
    "plot_accuracies(history)"
   ]
  },
  {
   "cell_type": "code",
   "execution_count": 39,
   "metadata": {
    "colab": {
     "base_uri": "https://localhost:8080/",
     "height": 34
    },
    "colab_type": "code",
    "id": "-imkYB6opOVD",
    "outputId": "c97008b1-5900-465f-8227-b748f2a88ae3"
   },
   "outputs": [
    {
     "data": {
      "text/plain": [
       "{'val_acc': 0.54296875, 'val_loss': 1.3001505136489868}"
      ]
     },
     "execution_count": 39,
     "metadata": {
      "tags": []
     },
     "output_type": "execute_result"
    }
   ],
   "source": [
    "evaluate(model, test_loader)"
   ]
  },
  {
   "cell_type": "code",
   "execution_count": 40,
   "metadata": {
    "colab": {},
    "colab_type": "code",
    "id": "Xx5YuoGppUzk"
   },
   "outputs": [],
   "source": [
    "arch =  '4 layers (1650,512,138,10)'"
   ]
  },
  {
   "cell_type": "code",
   "execution_count": 41,
   "metadata": {
    "colab": {},
    "colab_type": "code",
    "id": "9-DT4Wa8pVuO"
   },
   "outputs": [],
   "source": [
    "lrs = [0.5,0.01,0.05,0.001,0.1]"
   ]
  },
  {
   "cell_type": "code",
   "execution_count": 42,
   "metadata": {
    "colab": {},
    "colab_type": "code",
    "id": "ljzcICvMpba_"
   },
   "outputs": [],
   "source": [
    "epochs = [5,7,8,10,4, 25]"
   ]
  },
  {
   "cell_type": "code",
   "execution_count": 43,
   "metadata": {
    "colab": {},
    "colab_type": "code",
    "id": "5-jwRNRDpeYS"
   },
   "outputs": [],
   "source": [
    "test_acc =  0.54\n",
    "test_loss = 1.30"
   ]
  },
  {
   "cell_type": "code",
   "execution_count": null,
   "metadata": {},
   "outputs": [],
   "source": [
    "fig = plt.figure()\n",
    "s = fig.add_subplot(111)\n",
    "s.bar([70, 80], [50, 51], width=5)\n",
    "s.set_xlim(0, 90)\n",
    "plt.xlabel('Epoch')\n",
    "plt.ylabel('Accuracy')\n",
    "plt.title('Logistic Regression Model Accuracy')\n",
    "fig.savefig('t.png')"
   ]
  },
  {
   "cell_type": "code",
   "execution_count": 44,
   "metadata": {
    "colab": {},
    "colab_type": "code",
    "id": "BE6muuihpl4B"
   },
   "outputs": [],
   "source": [
    "torch.save(model.state_dict(), 'cifar10-feedforward.pth')"
   ]
  }
 ],
 "metadata": {
  "accelerator": "GPU",
  "colab": {
   "name": "Image_Classification_CIFAR_10ipynb",
   "provenance": []
  },
  "kernelspec": {
   "display_name": "Python 3",
   "language": "python",
   "name": "python3"
  },
  "language_info": {
   "codemirror_mode": {
    "name": "ipython",
    "version": 3
   },
   "file_extension": ".py",
   "mimetype": "text/x-python",
   "name": "python",
   "nbconvert_exporter": "python",
   "pygments_lexer": "ipython3",
   "version": "3.6.13"
  },
  "widgets": {
   "application/vnd.jupyter.widget-state+json": {
    "1a150666e3bb416186398a98e59d10c1": {
     "model_module": "@jupyter-widgets/controls",
     "model_name": "HTMLModel",
     "state": {
      "_dom_classes": [],
      "_model_module": "@jupyter-widgets/controls",
      "_model_module_version": "1.5.0",
      "_model_name": "HTMLModel",
      "_view_count": null,
      "_view_module": "@jupyter-widgets/controls",
      "_view_module_version": "1.5.0",
      "_view_name": "HTMLView",
      "description": "",
      "description_tooltip": null,
      "layout": "IPY_MODEL_839f48c850f94d76a21949f931bc1fe7",
      "placeholder": "​",
      "style": "IPY_MODEL_adc45e90f844484784bcfd97a5b3104e",
      "value": " 170500096/? [00:20&lt;00:00, 49377924.65it/s]"
     }
    },
    "3e74b8c36bc14806b0a8adf3432c694e": {
     "model_module": "@jupyter-widgets/controls",
     "model_name": "HBoxModel",
     "state": {
      "_dom_classes": [],
      "_model_module": "@jupyter-widgets/controls",
      "_model_module_version": "1.5.0",
      "_model_name": "HBoxModel",
      "_view_count": null,
      "_view_module": "@jupyter-widgets/controls",
      "_view_module_version": "1.5.0",
      "_view_name": "HBoxView",
      "box_style": "",
      "children": [
       "IPY_MODEL_7393b0a80e4540bb9a34dd958cbac181",
       "IPY_MODEL_1a150666e3bb416186398a98e59d10c1"
      ],
      "layout": "IPY_MODEL_ea4c9aa2117a4f75aa328645a11729b7"
     }
    },
    "7393b0a80e4540bb9a34dd958cbac181": {
     "model_module": "@jupyter-widgets/controls",
     "model_name": "FloatProgressModel",
     "state": {
      "_dom_classes": [],
      "_model_module": "@jupyter-widgets/controls",
      "_model_module_version": "1.5.0",
      "_model_name": "FloatProgressModel",
      "_view_count": null,
      "_view_module": "@jupyter-widgets/controls",
      "_view_module_version": "1.5.0",
      "_view_name": "ProgressView",
      "bar_style": "info",
      "description": "",
      "description_tooltip": null,
      "layout": "IPY_MODEL_8332fa27ba8d4109b4578bc1979ccb13",
      "max": 1,
      "min": 0,
      "orientation": "horizontal",
      "style": "IPY_MODEL_e5740b7aa7cd4cc088ec3b7fd0d514e3",
      "value": 1
     }
    },
    "8332fa27ba8d4109b4578bc1979ccb13": {
     "model_module": "@jupyter-widgets/base",
     "model_name": "LayoutModel",
     "state": {
      "_model_module": "@jupyter-widgets/base",
      "_model_module_version": "1.2.0",
      "_model_name": "LayoutModel",
      "_view_count": null,
      "_view_module": "@jupyter-widgets/base",
      "_view_module_version": "1.2.0",
      "_view_name": "LayoutView",
      "align_content": null,
      "align_items": null,
      "align_self": null,
      "border": null,
      "bottom": null,
      "display": null,
      "flex": null,
      "flex_flow": null,
      "grid_area": null,
      "grid_auto_columns": null,
      "grid_auto_flow": null,
      "grid_auto_rows": null,
      "grid_column": null,
      "grid_gap": null,
      "grid_row": null,
      "grid_template_areas": null,
      "grid_template_columns": null,
      "grid_template_rows": null,
      "height": null,
      "justify_content": null,
      "justify_items": null,
      "left": null,
      "margin": null,
      "max_height": null,
      "max_width": null,
      "min_height": null,
      "min_width": null,
      "object_fit": null,
      "object_position": null,
      "order": null,
      "overflow": null,
      "overflow_x": null,
      "overflow_y": null,
      "padding": null,
      "right": null,
      "top": null,
      "visibility": null,
      "width": null
     }
    },
    "839f48c850f94d76a21949f931bc1fe7": {
     "model_module": "@jupyter-widgets/base",
     "model_name": "LayoutModel",
     "state": {
      "_model_module": "@jupyter-widgets/base",
      "_model_module_version": "1.2.0",
      "_model_name": "LayoutModel",
      "_view_count": null,
      "_view_module": "@jupyter-widgets/base",
      "_view_module_version": "1.2.0",
      "_view_name": "LayoutView",
      "align_content": null,
      "align_items": null,
      "align_self": null,
      "border": null,
      "bottom": null,
      "display": null,
      "flex": null,
      "flex_flow": null,
      "grid_area": null,
      "grid_auto_columns": null,
      "grid_auto_flow": null,
      "grid_auto_rows": null,
      "grid_column": null,
      "grid_gap": null,
      "grid_row": null,
      "grid_template_areas": null,
      "grid_template_columns": null,
      "grid_template_rows": null,
      "height": null,
      "justify_content": null,
      "justify_items": null,
      "left": null,
      "margin": null,
      "max_height": null,
      "max_width": null,
      "min_height": null,
      "min_width": null,
      "object_fit": null,
      "object_position": null,
      "order": null,
      "overflow": null,
      "overflow_x": null,
      "overflow_y": null,
      "padding": null,
      "right": null,
      "top": null,
      "visibility": null,
      "width": null
     }
    },
    "adc45e90f844484784bcfd97a5b3104e": {
     "model_module": "@jupyter-widgets/controls",
     "model_name": "DescriptionStyleModel",
     "state": {
      "_model_module": "@jupyter-widgets/controls",
      "_model_module_version": "1.5.0",
      "_model_name": "DescriptionStyleModel",
      "_view_count": null,
      "_view_module": "@jupyter-widgets/base",
      "_view_module_version": "1.2.0",
      "_view_name": "StyleView",
      "description_width": ""
     }
    },
    "e5740b7aa7cd4cc088ec3b7fd0d514e3": {
     "model_module": "@jupyter-widgets/controls",
     "model_name": "ProgressStyleModel",
     "state": {
      "_model_module": "@jupyter-widgets/controls",
      "_model_module_version": "1.5.0",
      "_model_name": "ProgressStyleModel",
      "_view_count": null,
      "_view_module": "@jupyter-widgets/base",
      "_view_module_version": "1.2.0",
      "_view_name": "StyleView",
      "bar_color": null,
      "description_width": "initial"
     }
    },
    "ea4c9aa2117a4f75aa328645a11729b7": {
     "model_module": "@jupyter-widgets/base",
     "model_name": "LayoutModel",
     "state": {
      "_model_module": "@jupyter-widgets/base",
      "_model_module_version": "1.2.0",
      "_model_name": "LayoutModel",
      "_view_count": null,
      "_view_module": "@jupyter-widgets/base",
      "_view_module_version": "1.2.0",
      "_view_name": "LayoutView",
      "align_content": null,
      "align_items": null,
      "align_self": null,
      "border": null,
      "bottom": null,
      "display": null,
      "flex": null,
      "flex_flow": null,
      "grid_area": null,
      "grid_auto_columns": null,
      "grid_auto_flow": null,
      "grid_auto_rows": null,
      "grid_column": null,
      "grid_gap": null,
      "grid_row": null,
      "grid_template_areas": null,
      "grid_template_columns": null,
      "grid_template_rows": null,
      "height": null,
      "justify_content": null,
      "justify_items": null,
      "left": null,
      "margin": null,
      "max_height": null,
      "max_width": null,
      "min_height": null,
      "min_width": null,
      "object_fit": null,
      "object_position": null,
      "order": null,
      "overflow": null,
      "overflow_x": null,
      "overflow_y": null,
      "padding": null,
      "right": null,
      "top": null,
      "visibility": null,
      "width": null
     }
    }
   }
  }
 },
 "nbformat": 4,
 "nbformat_minor": 1
}
